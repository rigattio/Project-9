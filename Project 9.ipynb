{
 "cells": [
  {
   "cell_type": "markdown",
   "id": "ffa55a8b",
   "metadata": {},
   "source": [
    "## Project 9: A Data Analysis of Your Own\n",
    "\n",
    "Olivia Rigatti"
   ]
  },
  {
   "cell_type": "markdown",
   "id": "2d7f204d",
   "metadata": {},
   "source": [
    "For my project I decided to work with electric vehicle data collected from the state of Washington. The data shows information for each electric car in Washington including what city it is from and the make/model of the car. For this project I am going to answer the following questions:\n",
    "\n",
    "- How have electric and hybrid car usage changed over time? - Is one more prominent than the other? - Has it always been this way or did it change?\n",
    "- Has the ‘main’ electric brand changed over time or has it always been the same?\n",
    "- How many of these cars actaully qualify for Clean Alternative Fuel Vehicle (CAFV) Eligibility?\n"
   ]
  },
  {
   "cell_type": "markdown",
   "id": "8d2caa45",
   "metadata": {},
   "source": [
    "### Part 1: How have electric and hybrid car usage changed over time?"
   ]
  },
  {
   "cell_type": "markdown",
   "id": "049877e5",
   "metadata": {},
   "source": [
    "The first thing I noticed when I originally examined the dataset is that it includes both hybrid and pure electric cars. In recent years it seems that electric cars, both hybrid and non-hybrid have gotten more popular. However, I have never known or seen anything (although I am sure there are artcles about this) that talks about which is more popular. As I know people who have hyrbids and others who have pure electric vehicles I wanted to see if one is more popular than the other. I also want to see how that popularity has changed over time. I know that electric cars have started to get better range so I was thinking maybe originally hybrids were more popular and then people shifted to electric cars as they improved. \n",
    "\n",
    "To begin this analysis we first need to import all the necessary packages and load the data frame. "
   ]
  },
  {
   "cell_type": "code",
   "execution_count": 48,
   "id": "150b131c",
   "metadata": {},
   "outputs": [],
   "source": [
    "# Import necessary packages\n",
    "import pandas as pd\n",
    "import numpy as np\n",
    "\n",
    "import seaborn as sns\n",
    "from matplotlib import pyplot as plt"
   ]
  },
  {
   "cell_type": "markdown",
   "id": "ad0bd074",
   "metadata": {},
   "source": [
    "The original data file I downloaded from the data.gov website was too large to upload to Github so after doing my analysis I made a smaller dataframe and included the columns I needed as well as a few more that were related to the car specs. This is just so the reader could see some of the other information that was given in the data. If interested in the seeing the full data it can be found at https://catalog.data.gov/dataset/electric-vehicle-population-data."
   ]
  },
  {
   "cell_type": "code",
   "execution_count": 78,
   "id": "38b4cab0",
   "metadata": {},
   "outputs": [],
   "source": [
    "# Load the data into a dataframe\n",
    "df = pd.read_csv('Electric_Vehicle_Population_Data2.csv')"
   ]
  },
  {
   "cell_type": "markdown",
   "id": "4af797aa",
   "metadata": {},
   "source": [
    "Now that we have loaded the data let's take a quick look at it to see what type of columns we are working with and what information is available. "
   ]
  },
  {
   "cell_type": "code",
   "execution_count": 79,
   "id": "229a5e89",
   "metadata": {},
   "outputs": [
    {
     "data": {
      "text/html": [
       "<div>\n",
       "<style scoped>\n",
       "    .dataframe tbody tr th:only-of-type {\n",
       "        vertical-align: middle;\n",
       "    }\n",
       "\n",
       "    .dataframe tbody tr th {\n",
       "        vertical-align: top;\n",
       "    }\n",
       "\n",
       "    .dataframe thead th {\n",
       "        text-align: right;\n",
       "    }\n",
       "</style>\n",
       "<table border=\"1\" class=\"dataframe\">\n",
       "  <thead>\n",
       "    <tr style=\"text-align: right;\">\n",
       "      <th></th>\n",
       "      <th>Unnamed: 0</th>\n",
       "      <th>County</th>\n",
       "      <th>City</th>\n",
       "      <th>State</th>\n",
       "      <th>Model Year</th>\n",
       "      <th>Make</th>\n",
       "      <th>Model</th>\n",
       "      <th>Electric Vehicle Type</th>\n",
       "      <th>Clean Alternative Fuel Vehicle (CAFV) Eligibility</th>\n",
       "      <th>Electric Range</th>\n",
       "    </tr>\n",
       "  </thead>\n",
       "  <tbody>\n",
       "    <tr>\n",
       "      <th>0</th>\n",
       "      <td>0</td>\n",
       "      <td>Kitsap</td>\n",
       "      <td>Bremerton</td>\n",
       "      <td>WA</td>\n",
       "      <td>2017</td>\n",
       "      <td>CHRYSLER</td>\n",
       "      <td>PACIFICA</td>\n",
       "      <td>Plug-in Hybrid Electric Vehicle (PHEV)</td>\n",
       "      <td>Clean Alternative Fuel Vehicle Eligible</td>\n",
       "      <td>33</td>\n",
       "    </tr>\n",
       "    <tr>\n",
       "      <th>1</th>\n",
       "      <td>1</td>\n",
       "      <td>Stevens</td>\n",
       "      <td>Colville</td>\n",
       "      <td>WA</td>\n",
       "      <td>2020</td>\n",
       "      <td>CHRYSLER</td>\n",
       "      <td>PACIFICA</td>\n",
       "      <td>Plug-in Hybrid Electric Vehicle (PHEV)</td>\n",
       "      <td>Clean Alternative Fuel Vehicle Eligible</td>\n",
       "      <td>32</td>\n",
       "    </tr>\n",
       "    <tr>\n",
       "      <th>2</th>\n",
       "      <td>2</td>\n",
       "      <td>Yakima</td>\n",
       "      <td>Yakima</td>\n",
       "      <td>WA</td>\n",
       "      <td>2022</td>\n",
       "      <td>KIA</td>\n",
       "      <td>EV6</td>\n",
       "      <td>Battery Electric Vehicle (BEV)</td>\n",
       "      <td>Eligibility unknown as battery range has not b...</td>\n",
       "      <td>0</td>\n",
       "    </tr>\n",
       "    <tr>\n",
       "      <th>3</th>\n",
       "      <td>3</td>\n",
       "      <td>Kitsap</td>\n",
       "      <td>Bainbridge Island</td>\n",
       "      <td>WA</td>\n",
       "      <td>2018</td>\n",
       "      <td>TESLA</td>\n",
       "      <td>MODEL 3</td>\n",
       "      <td>Battery Electric Vehicle (BEV)</td>\n",
       "      <td>Clean Alternative Fuel Vehicle Eligible</td>\n",
       "      <td>215</td>\n",
       "    </tr>\n",
       "    <tr>\n",
       "      <th>4</th>\n",
       "      <td>4</td>\n",
       "      <td>Thurston</td>\n",
       "      <td>Tumwater</td>\n",
       "      <td>WA</td>\n",
       "      <td>2018</td>\n",
       "      <td>NISSAN</td>\n",
       "      <td>LEAF</td>\n",
       "      <td>Battery Electric Vehicle (BEV)</td>\n",
       "      <td>Clean Alternative Fuel Vehicle Eligible</td>\n",
       "      <td>151</td>\n",
       "    </tr>\n",
       "  </tbody>\n",
       "</table>\n",
       "</div>"
      ],
      "text/plain": [
       "   Unnamed: 0    County               City State  Model Year      Make  \\\n",
       "0           0    Kitsap          Bremerton    WA        2017  CHRYSLER   \n",
       "1           1   Stevens           Colville    WA        2020  CHRYSLER   \n",
       "2           2    Yakima             Yakima    WA        2022       KIA   \n",
       "3           3    Kitsap  Bainbridge Island    WA        2018     TESLA   \n",
       "4           4  Thurston           Tumwater    WA        2018    NISSAN   \n",
       "\n",
       "      Model                   Electric Vehicle Type  \\\n",
       "0  PACIFICA  Plug-in Hybrid Electric Vehicle (PHEV)   \n",
       "1  PACIFICA  Plug-in Hybrid Electric Vehicle (PHEV)   \n",
       "2       EV6          Battery Electric Vehicle (BEV)   \n",
       "3   MODEL 3          Battery Electric Vehicle (BEV)   \n",
       "4      LEAF          Battery Electric Vehicle (BEV)   \n",
       "\n",
       "   Clean Alternative Fuel Vehicle (CAFV) Eligibility  Electric Range  \n",
       "0            Clean Alternative Fuel Vehicle Eligible              33  \n",
       "1            Clean Alternative Fuel Vehicle Eligible              32  \n",
       "2  Eligibility unknown as battery range has not b...               0  \n",
       "3            Clean Alternative Fuel Vehicle Eligible             215  \n",
       "4            Clean Alternative Fuel Vehicle Eligible             151  "
      ]
     },
     "execution_count": 79,
     "metadata": {},
     "output_type": "execute_result"
    }
   ],
   "source": [
    "# Examine the data\n",
    "df.head()"
   ]
  },
  {
   "cell_type": "markdown",
   "id": "49552d04",
   "metadata": {},
   "source": [
    "From this I notice that there is no year that the car owner registered their car. The only year we have is the make of the car. This means when I am doing my analysis that I will be looking at the car manufacturing over time rather than the amount of cars that were present at that time. This is because someone could have bought an electric car in 2020 but it is a 2017 model. This is somewhat of a limitation but it still allows me to get an idea of how electric car usage/manufacturing has been changing and give some insights into the area. \n",
    "\n",
    "I also noticed that there are some numerical columns, so I want to take a quick look at the stats of the columns. I will do this using the .describe() function which will give me a summary of stats for each numerical column. "
   ]
  },
  {
   "cell_type": "code",
   "execution_count": 80,
   "id": "571e3980",
   "metadata": {},
   "outputs": [
    {
     "data": {
      "text/html": [
       "<div>\n",
       "<style scoped>\n",
       "    .dataframe tbody tr th:only-of-type {\n",
       "        vertical-align: middle;\n",
       "    }\n",
       "\n",
       "    .dataframe tbody tr th {\n",
       "        vertical-align: top;\n",
       "    }\n",
       "\n",
       "    .dataframe thead th {\n",
       "        text-align: right;\n",
       "    }\n",
       "</style>\n",
       "<table border=\"1\" class=\"dataframe\">\n",
       "  <thead>\n",
       "    <tr style=\"text-align: right;\">\n",
       "      <th></th>\n",
       "      <th>Unnamed: 0</th>\n",
       "      <th>Model Year</th>\n",
       "      <th>Electric Range</th>\n",
       "    </tr>\n",
       "  </thead>\n",
       "  <tbody>\n",
       "    <tr>\n",
       "      <th>count</th>\n",
       "      <td>159467.000000</td>\n",
       "      <td>159467.000000</td>\n",
       "      <td>159467.000000</td>\n",
       "    </tr>\n",
       "    <tr>\n",
       "      <th>mean</th>\n",
       "      <td>79733.000000</td>\n",
       "      <td>2020.192510</td>\n",
       "      <td>64.283319</td>\n",
       "    </tr>\n",
       "    <tr>\n",
       "      <th>std</th>\n",
       "      <td>46034.302026</td>\n",
       "      <td>3.010564</td>\n",
       "      <td>94.634277</td>\n",
       "    </tr>\n",
       "    <tr>\n",
       "      <th>min</th>\n",
       "      <td>0.000000</td>\n",
       "      <td>1997.000000</td>\n",
       "      <td>0.000000</td>\n",
       "    </tr>\n",
       "    <tr>\n",
       "      <th>25%</th>\n",
       "      <td>39866.500000</td>\n",
       "      <td>2018.000000</td>\n",
       "      <td>0.000000</td>\n",
       "    </tr>\n",
       "    <tr>\n",
       "      <th>50%</th>\n",
       "      <td>79733.000000</td>\n",
       "      <td>2021.000000</td>\n",
       "      <td>14.000000</td>\n",
       "    </tr>\n",
       "    <tr>\n",
       "      <th>75%</th>\n",
       "      <td>119599.500000</td>\n",
       "      <td>2023.000000</td>\n",
       "      <td>84.000000</td>\n",
       "    </tr>\n",
       "    <tr>\n",
       "      <th>max</th>\n",
       "      <td>159466.000000</td>\n",
       "      <td>2024.000000</td>\n",
       "      <td>337.000000</td>\n",
       "    </tr>\n",
       "  </tbody>\n",
       "</table>\n",
       "</div>"
      ],
      "text/plain": [
       "          Unnamed: 0     Model Year  Electric Range\n",
       "count  159467.000000  159467.000000   159467.000000\n",
       "mean    79733.000000    2020.192510       64.283319\n",
       "std     46034.302026       3.010564       94.634277\n",
       "min         0.000000    1997.000000        0.000000\n",
       "25%     39866.500000    2018.000000        0.000000\n",
       "50%     79733.000000    2021.000000       14.000000\n",
       "75%    119599.500000    2023.000000       84.000000\n",
       "max    159466.000000    2024.000000      337.000000"
      ]
     },
     "execution_count": 80,
     "metadata": {},
     "output_type": "execute_result"
    }
   ],
   "source": [
    "# Describes the data\n",
    "df.describe()"
   ]
  },
  {
   "cell_type": "markdown",
   "id": "fe9bbf09",
   "metadata": {},
   "source": [
    "From the information above I can see that the oldest electric car currently registered in Washington is from 1997. That seems pretty old. Techincally the first electric car was made in 1890 (this link has more information if you're interested in the history of the electric car https://www.energy.gov/articles/history-electric-car#:~:text=Here%20in%20the%20U.S.%2C%20the,spark%20interest%20in%20electric%20vehicles). However, they have just recently been becoming more popular. This makes me think there might be some cars from in the 1990s and early 2000s that will make our visualizations a little unclear but not add much to our data. I wanted to see how many cars there were before 2010 so I looked at the at the length of the list of cars that were made before 2010. "
   ]
  },
  {
   "cell_type": "code",
   "execution_count": 52,
   "id": "2b79795c",
   "metadata": {},
   "outputs": [
    {
     "data": {
      "text/plain": [
       "37"
      ]
     },
     "execution_count": 52,
     "metadata": {},
     "output_type": "execute_result"
    }
   ],
   "source": [
    "# Returns the length of the list of cars made before 2010\n",
    "len(df[df['Model Year'] < 2010])"
   ]
  },
  {
   "cell_type": "markdown",
   "id": "84a71d07",
   "metadata": {},
   "source": [
    "So there are only 37 cars registered as made before 2010. As most of my analysis is going to come from my visualization, and 37 cars spread over 13 years is not many, I am going to create a new dataframe that filters for cars with a model year of after 2010. This will make the visualizations a little easier to interpret and just look a little nicer. "
   ]
  },
  {
   "cell_type": "code",
   "execution_count": 53,
   "id": "1265d54a",
   "metadata": {},
   "outputs": [],
   "source": [
    "# Creates new dataframe with cars made after 2010\n",
    "df_rec = df[df['Model Year'] > 2010]"
   ]
  },
  {
   "cell_type": "markdown",
   "id": "95b4b9b8",
   "metadata": {},
   "source": [
    "Let's take a quick look to make sure a dataframe was actually created. "
   ]
  },
  {
   "cell_type": "code",
   "execution_count": 81,
   "id": "e3485486",
   "metadata": {},
   "outputs": [
    {
     "data": {
      "text/html": [
       "<div>\n",
       "<style scoped>\n",
       "    .dataframe tbody tr th:only-of-type {\n",
       "        vertical-align: middle;\n",
       "    }\n",
       "\n",
       "    .dataframe tbody tr th {\n",
       "        vertical-align: top;\n",
       "    }\n",
       "\n",
       "    .dataframe thead th {\n",
       "        text-align: right;\n",
       "    }\n",
       "</style>\n",
       "<table border=\"1\" class=\"dataframe\">\n",
       "  <thead>\n",
       "    <tr style=\"text-align: right;\">\n",
       "      <th></th>\n",
       "      <th>Unnamed: 0</th>\n",
       "      <th>County</th>\n",
       "      <th>City</th>\n",
       "      <th>State</th>\n",
       "      <th>Model Year</th>\n",
       "      <th>Make</th>\n",
       "      <th>Model</th>\n",
       "      <th>Electric Vehicle Type</th>\n",
       "      <th>Clean Alternative Fuel Vehicle (CAFV) Eligibility</th>\n",
       "      <th>Electric Range</th>\n",
       "    </tr>\n",
       "  </thead>\n",
       "  <tbody>\n",
       "    <tr>\n",
       "      <th>0</th>\n",
       "      <td>0</td>\n",
       "      <td>Kitsap</td>\n",
       "      <td>Bremerton</td>\n",
       "      <td>WA</td>\n",
       "      <td>2017</td>\n",
       "      <td>CHRYSLER</td>\n",
       "      <td>PACIFICA</td>\n",
       "      <td>Plug-in Hybrid Electric Vehicle (PHEV)</td>\n",
       "      <td>Clean Alternative Fuel Vehicle Eligible</td>\n",
       "      <td>33</td>\n",
       "    </tr>\n",
       "    <tr>\n",
       "      <th>1</th>\n",
       "      <td>1</td>\n",
       "      <td>Stevens</td>\n",
       "      <td>Colville</td>\n",
       "      <td>WA</td>\n",
       "      <td>2020</td>\n",
       "      <td>CHRYSLER</td>\n",
       "      <td>PACIFICA</td>\n",
       "      <td>Plug-in Hybrid Electric Vehicle (PHEV)</td>\n",
       "      <td>Clean Alternative Fuel Vehicle Eligible</td>\n",
       "      <td>32</td>\n",
       "    </tr>\n",
       "    <tr>\n",
       "      <th>2</th>\n",
       "      <td>2</td>\n",
       "      <td>Yakima</td>\n",
       "      <td>Yakima</td>\n",
       "      <td>WA</td>\n",
       "      <td>2022</td>\n",
       "      <td>KIA</td>\n",
       "      <td>EV6</td>\n",
       "      <td>Battery Electric Vehicle (BEV)</td>\n",
       "      <td>Eligibility unknown as battery range has not b...</td>\n",
       "      <td>0</td>\n",
       "    </tr>\n",
       "    <tr>\n",
       "      <th>3</th>\n",
       "      <td>3</td>\n",
       "      <td>Kitsap</td>\n",
       "      <td>Bainbridge Island</td>\n",
       "      <td>WA</td>\n",
       "      <td>2018</td>\n",
       "      <td>TESLA</td>\n",
       "      <td>MODEL 3</td>\n",
       "      <td>Battery Electric Vehicle (BEV)</td>\n",
       "      <td>Clean Alternative Fuel Vehicle Eligible</td>\n",
       "      <td>215</td>\n",
       "    </tr>\n",
       "    <tr>\n",
       "      <th>4</th>\n",
       "      <td>4</td>\n",
       "      <td>Thurston</td>\n",
       "      <td>Tumwater</td>\n",
       "      <td>WA</td>\n",
       "      <td>2018</td>\n",
       "      <td>NISSAN</td>\n",
       "      <td>LEAF</td>\n",
       "      <td>Battery Electric Vehicle (BEV)</td>\n",
       "      <td>Clean Alternative Fuel Vehicle Eligible</td>\n",
       "      <td>151</td>\n",
       "    </tr>\n",
       "  </tbody>\n",
       "</table>\n",
       "</div>"
      ],
      "text/plain": [
       "   Unnamed: 0    County               City State  Model Year      Make  \\\n",
       "0           0    Kitsap          Bremerton    WA        2017  CHRYSLER   \n",
       "1           1   Stevens           Colville    WA        2020  CHRYSLER   \n",
       "2           2    Yakima             Yakima    WA        2022       KIA   \n",
       "3           3    Kitsap  Bainbridge Island    WA        2018     TESLA   \n",
       "4           4  Thurston           Tumwater    WA        2018    NISSAN   \n",
       "\n",
       "      Model                   Electric Vehicle Type  \\\n",
       "0  PACIFICA  Plug-in Hybrid Electric Vehicle (PHEV)   \n",
       "1  PACIFICA  Plug-in Hybrid Electric Vehicle (PHEV)   \n",
       "2       EV6          Battery Electric Vehicle (BEV)   \n",
       "3   MODEL 3          Battery Electric Vehicle (BEV)   \n",
       "4      LEAF          Battery Electric Vehicle (BEV)   \n",
       "\n",
       "   Clean Alternative Fuel Vehicle (CAFV) Eligibility  Electric Range  \n",
       "0            Clean Alternative Fuel Vehicle Eligible              33  \n",
       "1            Clean Alternative Fuel Vehicle Eligible              32  \n",
       "2  Eligibility unknown as battery range has not b...               0  \n",
       "3            Clean Alternative Fuel Vehicle Eligible             215  \n",
       "4            Clean Alternative Fuel Vehicle Eligible             151  "
      ]
     },
     "execution_count": 81,
     "metadata": {},
     "output_type": "execute_result"
    }
   ],
   "source": [
    "# Examines the dataframe\n",
    "df_rec.head()"
   ]
  },
  {
   "cell_type": "markdown",
   "id": "e70b0b53",
   "metadata": {},
   "source": [
    "I'm also going to check the summary stats again to make sure that the correct years of cars were filtered out. "
   ]
  },
  {
   "cell_type": "code",
   "execution_count": 82,
   "id": "27cb6e79",
   "metadata": {},
   "outputs": [
    {
     "data": {
      "text/html": [
       "<div>\n",
       "<style scoped>\n",
       "    .dataframe tbody tr th:only-of-type {\n",
       "        vertical-align: middle;\n",
       "    }\n",
       "\n",
       "    .dataframe tbody tr th {\n",
       "        vertical-align: top;\n",
       "    }\n",
       "\n",
       "    .dataframe thead th {\n",
       "        text-align: right;\n",
       "    }\n",
       "</style>\n",
       "<table border=\"1\" class=\"dataframe\">\n",
       "  <thead>\n",
       "    <tr style=\"text-align: right;\">\n",
       "      <th></th>\n",
       "      <th>Unnamed: 0</th>\n",
       "      <th>Model Year</th>\n",
       "      <th>Electric Range</th>\n",
       "    </tr>\n",
       "  </thead>\n",
       "  <tbody>\n",
       "    <tr>\n",
       "      <th>count</th>\n",
       "      <td>159406.000000</td>\n",
       "      <td>159406.000000</td>\n",
       "      <td>159406.000000</td>\n",
       "    </tr>\n",
       "    <tr>\n",
       "      <th>mean</th>\n",
       "      <td>79732.569508</td>\n",
       "      <td>2020.197684</td>\n",
       "      <td>64.238078</td>\n",
       "    </tr>\n",
       "    <tr>\n",
       "      <th>std</th>\n",
       "      <td>46033.037291</td>\n",
       "      <td>2.998387</td>\n",
       "      <td>94.612498</td>\n",
       "    </tr>\n",
       "    <tr>\n",
       "      <th>min</th>\n",
       "      <td>0.000000</td>\n",
       "      <td>2011.000000</td>\n",
       "      <td>0.000000</td>\n",
       "    </tr>\n",
       "    <tr>\n",
       "      <th>25%</th>\n",
       "      <td>39866.250000</td>\n",
       "      <td>2018.000000</td>\n",
       "      <td>0.000000</td>\n",
       "    </tr>\n",
       "    <tr>\n",
       "      <th>50%</th>\n",
       "      <td>79733.500000</td>\n",
       "      <td>2021.000000</td>\n",
       "      <td>14.000000</td>\n",
       "    </tr>\n",
       "    <tr>\n",
       "      <th>75%</th>\n",
       "      <td>119594.750000</td>\n",
       "      <td>2023.000000</td>\n",
       "      <td>84.000000</td>\n",
       "    </tr>\n",
       "    <tr>\n",
       "      <th>max</th>\n",
       "      <td>159466.000000</td>\n",
       "      <td>2024.000000</td>\n",
       "      <td>337.000000</td>\n",
       "    </tr>\n",
       "  </tbody>\n",
       "</table>\n",
       "</div>"
      ],
      "text/plain": [
       "          Unnamed: 0     Model Year  Electric Range\n",
       "count  159406.000000  159406.000000   159406.000000\n",
       "mean    79732.569508    2020.197684       64.238078\n",
       "std     46033.037291       2.998387       94.612498\n",
       "min         0.000000    2011.000000        0.000000\n",
       "25%     39866.250000    2018.000000        0.000000\n",
       "50%     79733.500000    2021.000000       14.000000\n",
       "75%    119594.750000    2023.000000       84.000000\n",
       "max    159466.000000    2024.000000      337.000000"
      ]
     },
     "execution_count": 82,
     "metadata": {},
     "output_type": "execute_result"
    }
   ],
   "source": [
    "df_rec.describe()"
   ]
  },
  {
   "cell_type": "markdown",
   "id": "efbcc549",
   "metadata": {},
   "source": [
    "Great, now the oldest car is from 2011 just like I wanted.\n",
    "\n",
    "Now that I have a dataframe with cars made after 2010 I want to exmaine just the pure electric cars and then just the hybird cars before I look at the two of them together. To do this I am going to create two new dataframes. One called df_bev which looks at pure electric cars and one called df_phev which looks at hybrids. Although bev and phev seem like odd names they correspond to BEV: Battery Electric Vehicle and PHEV: Plug-in Hyrbid Electric Vehicle. "
   ]
  },
  {
   "cell_type": "code",
   "execution_count": 54,
   "id": "fa05b4b0",
   "metadata": {},
   "outputs": [],
   "source": [
    "# Creates a new dataframe with only pure electric cars\n",
    "df_bev = df_rec[df_rec['Electric Vehicle Type'] == 'Battery Electric Vehicle (BEV)']"
   ]
  },
  {
   "cell_type": "markdown",
   "id": "aadf8f69",
   "metadata": {},
   "source": [
    "Now that we have the dataframe created let's take a quick look at it to make sure that we really do have the correct information. "
   ]
  },
  {
   "cell_type": "code",
   "execution_count": 55,
   "id": "773b71ab",
   "metadata": {},
   "outputs": [
    {
     "data": {
      "text/html": [
       "<div>\n",
       "<style scoped>\n",
       "    .dataframe tbody tr th:only-of-type {\n",
       "        vertical-align: middle;\n",
       "    }\n",
       "\n",
       "    .dataframe tbody tr th {\n",
       "        vertical-align: top;\n",
       "    }\n",
       "\n",
       "    .dataframe thead th {\n",
       "        text-align: right;\n",
       "    }\n",
       "</style>\n",
       "<table border=\"1\" class=\"dataframe\">\n",
       "  <thead>\n",
       "    <tr style=\"text-align: right;\">\n",
       "      <th></th>\n",
       "      <th>Unnamed: 0</th>\n",
       "      <th>County</th>\n",
       "      <th>City</th>\n",
       "      <th>State</th>\n",
       "      <th>Model Year</th>\n",
       "      <th>Make</th>\n",
       "      <th>Model</th>\n",
       "      <th>Electric Vehicle Type</th>\n",
       "      <th>Clean Alternative Fuel Vehicle (CAFV) Eligibility</th>\n",
       "      <th>Electric Range</th>\n",
       "    </tr>\n",
       "  </thead>\n",
       "  <tbody>\n",
       "    <tr>\n",
       "      <th>2</th>\n",
       "      <td>2</td>\n",
       "      <td>Yakima</td>\n",
       "      <td>Yakima</td>\n",
       "      <td>WA</td>\n",
       "      <td>2022</td>\n",
       "      <td>KIA</td>\n",
       "      <td>EV6</td>\n",
       "      <td>Battery Electric Vehicle (BEV)</td>\n",
       "      <td>Eligibility unknown as battery range has not b...</td>\n",
       "      <td>0</td>\n",
       "    </tr>\n",
       "    <tr>\n",
       "      <th>3</th>\n",
       "      <td>3</td>\n",
       "      <td>Kitsap</td>\n",
       "      <td>Bainbridge Island</td>\n",
       "      <td>WA</td>\n",
       "      <td>2018</td>\n",
       "      <td>TESLA</td>\n",
       "      <td>MODEL 3</td>\n",
       "      <td>Battery Electric Vehicle (BEV)</td>\n",
       "      <td>Clean Alternative Fuel Vehicle Eligible</td>\n",
       "      <td>215</td>\n",
       "    </tr>\n",
       "    <tr>\n",
       "      <th>4</th>\n",
       "      <td>4</td>\n",
       "      <td>Thurston</td>\n",
       "      <td>Tumwater</td>\n",
       "      <td>WA</td>\n",
       "      <td>2018</td>\n",
       "      <td>NISSAN</td>\n",
       "      <td>LEAF</td>\n",
       "      <td>Battery Electric Vehicle (BEV)</td>\n",
       "      <td>Clean Alternative Fuel Vehicle Eligible</td>\n",
       "      <td>151</td>\n",
       "    </tr>\n",
       "    <tr>\n",
       "      <th>5</th>\n",
       "      <td>5</td>\n",
       "      <td>Kitsap</td>\n",
       "      <td>Port Orchard</td>\n",
       "      <td>WA</td>\n",
       "      <td>2019</td>\n",
       "      <td>KIA</td>\n",
       "      <td>NIRO</td>\n",
       "      <td>Battery Electric Vehicle (BEV)</td>\n",
       "      <td>Clean Alternative Fuel Vehicle Eligible</td>\n",
       "      <td>239</td>\n",
       "    </tr>\n",
       "    <tr>\n",
       "      <th>7</th>\n",
       "      <td>7</td>\n",
       "      <td>Yakima</td>\n",
       "      <td>Yakima</td>\n",
       "      <td>WA</td>\n",
       "      <td>2022</td>\n",
       "      <td>TESLA</td>\n",
       "      <td>MODEL Y</td>\n",
       "      <td>Battery Electric Vehicle (BEV)</td>\n",
       "      <td>Eligibility unknown as battery range has not b...</td>\n",
       "      <td>0</td>\n",
       "    </tr>\n",
       "  </tbody>\n",
       "</table>\n",
       "</div>"
      ],
      "text/plain": [
       "   Unnamed: 0    County               City State  Model Year    Make    Model  \\\n",
       "2           2    Yakima             Yakima    WA        2022     KIA      EV6   \n",
       "3           3    Kitsap  Bainbridge Island    WA        2018   TESLA  MODEL 3   \n",
       "4           4  Thurston           Tumwater    WA        2018  NISSAN     LEAF   \n",
       "5           5    Kitsap       Port Orchard    WA        2019     KIA     NIRO   \n",
       "7           7    Yakima             Yakima    WA        2022   TESLA  MODEL Y   \n",
       "\n",
       "            Electric Vehicle Type  \\\n",
       "2  Battery Electric Vehicle (BEV)   \n",
       "3  Battery Electric Vehicle (BEV)   \n",
       "4  Battery Electric Vehicle (BEV)   \n",
       "5  Battery Electric Vehicle (BEV)   \n",
       "7  Battery Electric Vehicle (BEV)   \n",
       "\n",
       "   Clean Alternative Fuel Vehicle (CAFV) Eligibility  Electric Range  \n",
       "2  Eligibility unknown as battery range has not b...               0  \n",
       "3            Clean Alternative Fuel Vehicle Eligible             215  \n",
       "4            Clean Alternative Fuel Vehicle Eligible             151  \n",
       "5            Clean Alternative Fuel Vehicle Eligible             239  \n",
       "7  Eligibility unknown as battery range has not b...               0  "
      ]
     },
     "execution_count": 55,
     "metadata": {},
     "output_type": "execute_result"
    }
   ],
   "source": [
    "# Examines the dataframe\n",
    "df_bev.head()"
   ]
  },
  {
   "cell_type": "code",
   "execution_count": 56,
   "id": "ecf56c3f",
   "metadata": {},
   "outputs": [],
   "source": [
    "# Creates a dataframe with only hybrid cars\n",
    "df_phev = df_rec[df_rec['Electric Vehicle Type'] == 'Plug-in Hybrid Electric Vehicle (PHEV)']"
   ]
  },
  {
   "cell_type": "markdown",
   "id": "79ab579b",
   "metadata": {},
   "source": [
    "Once again I am going to take a quick look at the dataframe to make sure I created it correctly. "
   ]
  },
  {
   "cell_type": "code",
   "execution_count": 57,
   "id": "a731a111",
   "metadata": {
    "scrolled": false
   },
   "outputs": [
    {
     "data": {
      "text/html": [
       "<div>\n",
       "<style scoped>\n",
       "    .dataframe tbody tr th:only-of-type {\n",
       "        vertical-align: middle;\n",
       "    }\n",
       "\n",
       "    .dataframe tbody tr th {\n",
       "        vertical-align: top;\n",
       "    }\n",
       "\n",
       "    .dataframe thead th {\n",
       "        text-align: right;\n",
       "    }\n",
       "</style>\n",
       "<table border=\"1\" class=\"dataframe\">\n",
       "  <thead>\n",
       "    <tr style=\"text-align: right;\">\n",
       "      <th></th>\n",
       "      <th>Unnamed: 0</th>\n",
       "      <th>County</th>\n",
       "      <th>City</th>\n",
       "      <th>State</th>\n",
       "      <th>Model Year</th>\n",
       "      <th>Make</th>\n",
       "      <th>Model</th>\n",
       "      <th>Electric Vehicle Type</th>\n",
       "      <th>Clean Alternative Fuel Vehicle (CAFV) Eligibility</th>\n",
       "      <th>Electric Range</th>\n",
       "    </tr>\n",
       "  </thead>\n",
       "  <tbody>\n",
       "    <tr>\n",
       "      <th>0</th>\n",
       "      <td>0</td>\n",
       "      <td>Kitsap</td>\n",
       "      <td>Bremerton</td>\n",
       "      <td>WA</td>\n",
       "      <td>2017</td>\n",
       "      <td>CHRYSLER</td>\n",
       "      <td>PACIFICA</td>\n",
       "      <td>Plug-in Hybrid Electric Vehicle (PHEV)</td>\n",
       "      <td>Clean Alternative Fuel Vehicle Eligible</td>\n",
       "      <td>33</td>\n",
       "    </tr>\n",
       "    <tr>\n",
       "      <th>1</th>\n",
       "      <td>1</td>\n",
       "      <td>Stevens</td>\n",
       "      <td>Colville</td>\n",
       "      <td>WA</td>\n",
       "      <td>2020</td>\n",
       "      <td>CHRYSLER</td>\n",
       "      <td>PACIFICA</td>\n",
       "      <td>Plug-in Hybrid Electric Vehicle (PHEV)</td>\n",
       "      <td>Clean Alternative Fuel Vehicle Eligible</td>\n",
       "      <td>32</td>\n",
       "    </tr>\n",
       "    <tr>\n",
       "      <th>6</th>\n",
       "      <td>6</td>\n",
       "      <td>Yakima</td>\n",
       "      <td>Yakima</td>\n",
       "      <td>WA</td>\n",
       "      <td>2019</td>\n",
       "      <td>MINI</td>\n",
       "      <td>COUNTRYMAN</td>\n",
       "      <td>Plug-in Hybrid Electric Vehicle (PHEV)</td>\n",
       "      <td>Not eligible due to low battery range</td>\n",
       "      <td>12</td>\n",
       "    </tr>\n",
       "    <tr>\n",
       "      <th>8</th>\n",
       "      <td>8</td>\n",
       "      <td>Kitsap</td>\n",
       "      <td>Olalla</td>\n",
       "      <td>WA</td>\n",
       "      <td>2012</td>\n",
       "      <td>TOYOTA</td>\n",
       "      <td>PRIUS PLUG-IN</td>\n",
       "      <td>Plug-in Hybrid Electric Vehicle (PHEV)</td>\n",
       "      <td>Not eligible due to low battery range</td>\n",
       "      <td>6</td>\n",
       "    </tr>\n",
       "    <tr>\n",
       "      <th>11</th>\n",
       "      <td>11</td>\n",
       "      <td>Thurston</td>\n",
       "      <td>Rainier</td>\n",
       "      <td>WA</td>\n",
       "      <td>2016</td>\n",
       "      <td>FORD</td>\n",
       "      <td>C-MAX</td>\n",
       "      <td>Plug-in Hybrid Electric Vehicle (PHEV)</td>\n",
       "      <td>Not eligible due to low battery range</td>\n",
       "      <td>19</td>\n",
       "    </tr>\n",
       "  </tbody>\n",
       "</table>\n",
       "</div>"
      ],
      "text/plain": [
       "    Unnamed: 0    County       City State  Model Year      Make  \\\n",
       "0            0    Kitsap  Bremerton    WA        2017  CHRYSLER   \n",
       "1            1   Stevens   Colville    WA        2020  CHRYSLER   \n",
       "6            6    Yakima     Yakima    WA        2019      MINI   \n",
       "8            8    Kitsap     Olalla    WA        2012    TOYOTA   \n",
       "11          11  Thurston    Rainier    WA        2016      FORD   \n",
       "\n",
       "            Model                   Electric Vehicle Type  \\\n",
       "0        PACIFICA  Plug-in Hybrid Electric Vehicle (PHEV)   \n",
       "1        PACIFICA  Plug-in Hybrid Electric Vehicle (PHEV)   \n",
       "6      COUNTRYMAN  Plug-in Hybrid Electric Vehicle (PHEV)   \n",
       "8   PRIUS PLUG-IN  Plug-in Hybrid Electric Vehicle (PHEV)   \n",
       "11          C-MAX  Plug-in Hybrid Electric Vehicle (PHEV)   \n",
       "\n",
       "   Clean Alternative Fuel Vehicle (CAFV) Eligibility  Electric Range  \n",
       "0            Clean Alternative Fuel Vehicle Eligible              33  \n",
       "1            Clean Alternative Fuel Vehicle Eligible              32  \n",
       "6              Not eligible due to low battery range              12  \n",
       "8              Not eligible due to low battery range               6  \n",
       "11             Not eligible due to low battery range              19  "
      ]
     },
     "execution_count": 57,
     "metadata": {},
     "output_type": "execute_result"
    }
   ],
   "source": [
    "# Examines the dataframe \n",
    "df_phev.head()"
   ]
  },
  {
   "cell_type": "markdown",
   "id": "9e94a922",
   "metadata": {},
   "source": [
    "Now that I have the two dataframes created I am going to plot the information individually for each type of electric car and take a look at the manufacturing amount over time. I am going to use seaborn to create these graphs. If you are intersted, you can find more information about the seaborn displot at https://seaborn.pydata.org/generated/seaborn.displot.html. "
   ]
  },
  {
   "cell_type": "code",
   "execution_count": 58,
   "id": "74cdede8",
   "metadata": {},
   "outputs": [
    {
     "data": {
      "text/plain": [
       "<seaborn.axisgrid.FacetGrid at 0x2131e80b590>"
      ]
     },
     "execution_count": 58,
     "metadata": {},
     "output_type": "execute_result"
    },
    {
     "data": {
      "image/png": "[encoded data removed]",
      "text/plain": [
       "<Figure size 500x500 with 1 Axes>"
      ]
     },
     "metadata": {},
     "output_type": "display_data"
    }
   ],
   "source": [
    "# Creates bar graph for pure electric cars using model year\n",
    "ax = sns.displot(data = df_bev, x = 'Model Year')\n",
    "\n",
    "# Sets title \n",
    "ax.set(title = \"Battery Electric Vehicle Count\")"
   ]
  },
  {
   "cell_type": "markdown",
   "id": "4adedb72",
   "metadata": {},
   "source": [
    "From the graph above I can see that the number of recently manufactured battery powered electric cars in Washington has definitely increased. If we assume, just because no other information is available to us right now, that the model of the car is the year that the owner bought and registered the car, then electric cars have gotten a lot more popular in Washington over the last couple years. Even accounting for some people having bought used cars and potentially selling their old cars, it seems like electric car usage has gone up. \n",
    "\n",
    "It might seem a little weird to see some 2024 cars counted on the graph even though it is 2023. That is because a lot of car companies release the next years model in the year before, normally around October, but they will sometimes do this in the middle of the year. Since this data set was updated most recently on November 17th 2023 it has some 2024 car models. \n",
    "\n",
    "Now let's take a look at the Plug-in Hybrid cars. "
   ]
  },
  {
   "cell_type": "code",
   "execution_count": 59,
   "id": "de1a68da",
   "metadata": {
    "scrolled": false
   },
   "outputs": [
    {
     "data": {
      "text/plain": [
       "<seaborn.axisgrid.FacetGrid at 0x2131f4e7750>"
      ]
     },
     "execution_count": 59,
     "metadata": {},
     "output_type": "execute_result"
    },
    {
     "data": {
      "image/png": "[encoded data removed]",
      "text/plain": [
       "<Figure size 500x500 with 1 Axes>"
      ]
     },
     "metadata": {},
     "output_type": "display_data"
    }
   ],
   "source": [
    "# Creates bar graph for hybrid cars using model year\n",
    "ax = sns.displot(data = df_phev, x = 'Model Year')\n",
    "\n",
    "# Sets title\n",
    "ax.set(title=\"Plug-in Hyrbid Electric Vehicle Count\")"
   ]
  },
  {
   "cell_type": "markdown",
   "id": "f503f2f0",
   "metadata": {},
   "source": [
    "From the Plug-in hybrid graph we can see there has also been some increase in hybrid cars. However, it is intersting to notice that there is a lot more varibility in this graph than the pure electric car graph. Whereas the other graph seemed to be continuously increasing this graph includes more ups and downs. However, overall it seems the number of hybrid cars has also increased. \n",
    "\n",
    "Looking at the y-axis I can see that the scale of the two graphs is very different. To see how they compare to each other I want to graph them an the same axis so it is easier to see the difference between the two graphs. "
   ]
  },
  {
   "cell_type": "code",
   "execution_count": 60,
   "id": "48360ffe",
   "metadata": {},
   "outputs": [
    {
     "data": {
      "text/plain": [
       "<seaborn.axisgrid.FacetGrid at 0x2131eb83750>"
      ]
     },
     "execution_count": 60,
     "metadata": {},
     "output_type": "execute_result"
    },
    {
     "data": {
      "image/png": "[encoded data removed]",
      "text/plain": [
       "<Figure size 810x500 with 1 Axes>"
      ]
     },
     "metadata": {},
     "output_type": "display_data"
    }
   ],
   "source": [
    "# Creates an overlaid bar chart with hybrid and pure electric cars\n",
    "ax = sns.displot(data = df_rec, x = 'Model Year', hue = 'Electric Vehicle Type')\n",
    "\n",
    "# Sets the title\n",
    "ax.set(title = \"BEV v PHEV Count\" )"
   ]
  },
  {
   "cell_type": "markdown",
   "id": "88e098c5",
   "metadata": {},
   "source": [
    "From this graph it is clear that on average there are more battery electric vehicles than there are hybrid vehicles. Also, for more recent models there are a lot more battery electric cars than there are hybrids. This might be because electric cars have become more efficient so people buy them over hybrids. It is also possible that people had hybrids and then bought pure electric cars because they needed new cars. There do seem to be a couple years where the number of hybrid cars is the same or larger than the number of battery electric cars. Let's take a closer look at these years to see what the actual difference is. \n",
    "\n",
    "To begin I will look at 2014 and then I'll take a look at 2012. "
   ]
  },
  {
   "cell_type": "code",
   "execution_count": 61,
   "id": "8bb51d58",
   "metadata": {},
   "outputs": [
    {
     "data": {
      "text/plain": [
       "1777"
      ]
     },
     "execution_count": 61,
     "metadata": {},
     "output_type": "execute_result"
    }
   ],
   "source": [
    "# Gets length of list of BEV cars with model year 2014\n",
    "len(df_bev[df_bev['Model Year'] == 2014])"
   ]
  },
  {
   "cell_type": "code",
   "execution_count": 62,
   "id": "d54049d0",
   "metadata": {},
   "outputs": [
    {
     "data": {
      "text/plain": [
       "1784"
      ]
     },
     "execution_count": 62,
     "metadata": {},
     "output_type": "execute_result"
    }
   ],
   "source": [
    "# Gets length of list of PHEV cars with model year 2014\n",
    "len(df_phev[df_phev['Model Year'] == 2014])"
   ]
  },
  {
   "cell_type": "markdown",
   "id": "50bc3684",
   "metadata": {},
   "source": [
    "Wow there are actually more hyrbid cars from 2014 then pure electric cars from 2014 registred in Washington. Now this does not mean that in 2014 there were more hybrids than electric cars in Washington. It is entirely possible that there were more pure electric cars but those owners sold them and bought newer models. However, if this was the case it makes me wonder if people trade-in or sell their electric cars for newer models more often than hybrid owners. \n",
    "\n",
    "Now I am going to look at 2012. "
   ]
  },
  {
   "cell_type": "code",
   "execution_count": 63,
   "id": "05e1cd88",
   "metadata": {},
   "outputs": [
    {
     "data": {
      "text/plain": [
       "772"
      ]
     },
     "execution_count": 63,
     "metadata": {},
     "output_type": "execute_result"
    }
   ],
   "source": [
    "# Gets length of list of BEV cars with model year 2012\n",
    "len(df_bev[df_bev['Model Year'] == 2012])"
   ]
  },
  {
   "cell_type": "code",
   "execution_count": 64,
   "id": "721e1139",
   "metadata": {},
   "outputs": [
    {
     "data": {
      "text/plain": [
       "873"
      ]
     },
     "execution_count": 64,
     "metadata": {},
     "output_type": "execute_result"
    }
   ],
   "source": [
    "# Gets length of list of PHEV cars with model year 2012\n",
    "len(df_phev[df_phev['Model Year'] == 2012])"
   ]
  },
  {
   "cell_type": "markdown",
   "id": "e0dc77ee",
   "metadata": {},
   "source": [
    "Once again there are more hyrbid cars from 2012 than battery electric cars. This difference is larger than the one in 2014. There is a 101 car difference rather than the 7 car difference we saw in 2014. Again, this does not mean that in 2012 there were more hybrids than electric cars in Washington. However, it makes me want to investigate hyrbid vs battery electric car turnover rate. Now that I have examined the type of electric car over model year I am going to move on to my second question. "
   ]
  },
  {
   "cell_type": "markdown",
   "id": "fb30f468",
   "metadata": {},
   "source": [
    "### Part 2: Who is the main EV supplier? Has this changed over time?"
   ]
  },
  {
   "cell_type": "markdown",
   "id": "08d76f5b",
   "metadata": {},
   "source": [
    "For my second question I want to see who the main electric vehicle supplier is, and if this supplier has changed over time. Again, since we don't have the registered date of the vehicle we will just be looking at model year. However, this works a little bit better than it did in question 1 because we can see which company manufactured the most cars in that year for current Washington residents. \n",
    "\n",
    "To begin let's just see who the current overal main EV supplier is in Washington. I will do this using the .value_counts() function. "
   ]
  },
  {
   "cell_type": "code",
   "execution_count": 83,
   "id": "63c0a816",
   "metadata": {},
   "outputs": [
    {
     "data": {
      "text/plain": [
       "TESLA             72403\n",
       "NISSAN            13795\n",
       "CHEVROLET         12567\n",
       "FORD               7997\n",
       "BMW                6842\n",
       "KIA                6754\n",
       "TOYOTA             5532\n",
       "VOLKSWAGEN         4424\n",
       "VOLVO              3746\n",
       "JEEP               3690\n",
       "HYUNDAI            3671\n",
       "AUDI               3246\n",
       "RIVIAN             2934\n",
       "CHRYSLER           2859\n",
       "MERCEDES-BENZ      1189\n",
       "PORSCHE            1065\n",
       "MITSUBISHI          911\n",
       "HONDA               833\n",
       "MINI                821\n",
       "POLESTAR            804\n",
       "FIAT                795\n",
       "SUBARU              690\n",
       "SMART               276\n",
       "MAZDA               269\n",
       "LINCOLN             236\n",
       "JAGUAR              220\n",
       "LUCID               208\n",
       "LEXUS               201\n",
       "CADILLAC            197\n",
       "GENESIS             130\n",
       "LAND ROVER           48\n",
       "ALFA ROMEO           19\n",
       "FISKER               17\n",
       "AZURE DYNAMICS        8\n",
       "TH!NK                 5\n",
       "DODGE                 2\n",
       "BENTLEY               2\n",
       "Name: Make, dtype: int64"
      ]
     },
     "execution_count": 83,
     "metadata": {},
     "output_type": "execute_result"
    }
   ],
   "source": [
    "# Counts values for 'Make' column in the data frame. \n",
    "df_rec['Make'].value_counts()"
   ]
  },
  {
   "cell_type": "markdown",
   "id": "d16f3e8d",
   "metadata": {},
   "source": [
    "Since there are a lot of different brands I am going to focus on the top three. Since the top three brands are Tesla, Chevrolet, and Nissan I decided to make a new dataframe that consists only of cars of the models. I did this by filtering the 'Make' column. "
   ]
  },
  {
   "cell_type": "code",
   "execution_count": 66,
   "id": "113a73db",
   "metadata": {},
   "outputs": [],
   "source": [
    "# Creates dataframe for cars of brand Tesla, Nissan, and Chevrolet\n",
    "df_models = df_rec[(df_rec['Make'] =='TESLA') | (df_rec['Make'] =='CHEVROLET') | (df_rec['Make'] =='NISSAN') ]"
   ]
  },
  {
   "cell_type": "markdown",
   "id": "30f55a9a",
   "metadata": {},
   "source": [
    "To make sure the code above accomplished what I wanted it to it is a good idea to examine the new dataframe. "
   ]
  },
  {
   "cell_type": "code",
   "execution_count": 67,
   "id": "13d4939d",
   "metadata": {},
   "outputs": [
    {
     "data": {
      "text/html": [
       "<div>\n",
       "<style scoped>\n",
       "    .dataframe tbody tr th:only-of-type {\n",
       "        vertical-align: middle;\n",
       "    }\n",
       "\n",
       "    .dataframe tbody tr th {\n",
       "        vertical-align: top;\n",
       "    }\n",
       "\n",
       "    .dataframe thead th {\n",
       "        text-align: right;\n",
       "    }\n",
       "</style>\n",
       "<table border=\"1\" class=\"dataframe\">\n",
       "  <thead>\n",
       "    <tr style=\"text-align: right;\">\n",
       "      <th></th>\n",
       "      <th>Unnamed: 0</th>\n",
       "      <th>County</th>\n",
       "      <th>City</th>\n",
       "      <th>State</th>\n",
       "      <th>Model Year</th>\n",
       "      <th>Make</th>\n",
       "      <th>Model</th>\n",
       "      <th>Electric Vehicle Type</th>\n",
       "      <th>Clean Alternative Fuel Vehicle (CAFV) Eligibility</th>\n",
       "      <th>Electric Range</th>\n",
       "    </tr>\n",
       "  </thead>\n",
       "  <tbody>\n",
       "    <tr>\n",
       "      <th>3</th>\n",
       "      <td>3</td>\n",
       "      <td>Kitsap</td>\n",
       "      <td>Bainbridge Island</td>\n",
       "      <td>WA</td>\n",
       "      <td>2018</td>\n",
       "      <td>TESLA</td>\n",
       "      <td>MODEL 3</td>\n",
       "      <td>Battery Electric Vehicle (BEV)</td>\n",
       "      <td>Clean Alternative Fuel Vehicle Eligible</td>\n",
       "      <td>215</td>\n",
       "    </tr>\n",
       "    <tr>\n",
       "      <th>4</th>\n",
       "      <td>4</td>\n",
       "      <td>Thurston</td>\n",
       "      <td>Tumwater</td>\n",
       "      <td>WA</td>\n",
       "      <td>2018</td>\n",
       "      <td>NISSAN</td>\n",
       "      <td>LEAF</td>\n",
       "      <td>Battery Electric Vehicle (BEV)</td>\n",
       "      <td>Clean Alternative Fuel Vehicle Eligible</td>\n",
       "      <td>151</td>\n",
       "    </tr>\n",
       "    <tr>\n",
       "      <th>7</th>\n",
       "      <td>7</td>\n",
       "      <td>Yakima</td>\n",
       "      <td>Yakima</td>\n",
       "      <td>WA</td>\n",
       "      <td>2022</td>\n",
       "      <td>TESLA</td>\n",
       "      <td>MODEL Y</td>\n",
       "      <td>Battery Electric Vehicle (BEV)</td>\n",
       "      <td>Eligibility unknown as battery range has not b...</td>\n",
       "      <td>0</td>\n",
       "    </tr>\n",
       "    <tr>\n",
       "      <th>9</th>\n",
       "      <td>9</td>\n",
       "      <td>Kitsap</td>\n",
       "      <td>Poulsbo</td>\n",
       "      <td>WA</td>\n",
       "      <td>2021</td>\n",
       "      <td>TESLA</td>\n",
       "      <td>MODEL 3</td>\n",
       "      <td>Battery Electric Vehicle (BEV)</td>\n",
       "      <td>Eligibility unknown as battery range has not b...</td>\n",
       "      <td>0</td>\n",
       "    </tr>\n",
       "    <tr>\n",
       "      <th>10</th>\n",
       "      <td>10</td>\n",
       "      <td>Kitsap</td>\n",
       "      <td>Bainbridge Island</td>\n",
       "      <td>WA</td>\n",
       "      <td>2016</td>\n",
       "      <td>NISSAN</td>\n",
       "      <td>LEAF</td>\n",
       "      <td>Battery Electric Vehicle (BEV)</td>\n",
       "      <td>Clean Alternative Fuel Vehicle Eligible</td>\n",
       "      <td>84</td>\n",
       "    </tr>\n",
       "  </tbody>\n",
       "</table>\n",
       "</div>"
      ],
      "text/plain": [
       "    Unnamed: 0    County               City State  Model Year    Make  \\\n",
       "3            3    Kitsap  Bainbridge Island    WA        2018   TESLA   \n",
       "4            4  Thurston           Tumwater    WA        2018  NISSAN   \n",
       "7            7    Yakima             Yakima    WA        2022   TESLA   \n",
       "9            9    Kitsap            Poulsbo    WA        2021   TESLA   \n",
       "10          10    Kitsap  Bainbridge Island    WA        2016  NISSAN   \n",
       "\n",
       "      Model           Electric Vehicle Type  \\\n",
       "3   MODEL 3  Battery Electric Vehicle (BEV)   \n",
       "4      LEAF  Battery Electric Vehicle (BEV)   \n",
       "7   MODEL Y  Battery Electric Vehicle (BEV)   \n",
       "9   MODEL 3  Battery Electric Vehicle (BEV)   \n",
       "10     LEAF  Battery Electric Vehicle (BEV)   \n",
       "\n",
       "    Clean Alternative Fuel Vehicle (CAFV) Eligibility  Electric Range  \n",
       "3             Clean Alternative Fuel Vehicle Eligible             215  \n",
       "4             Clean Alternative Fuel Vehicle Eligible             151  \n",
       "7   Eligibility unknown as battery range has not b...               0  \n",
       "9   Eligibility unknown as battery range has not b...               0  \n",
       "10            Clean Alternative Fuel Vehicle Eligible              84  "
      ]
     },
     "execution_count": 67,
     "metadata": {},
     "output_type": "execute_result"
    }
   ],
   "source": [
    "# Examines new dataframe\n",
    "df_models.head()"
   ]
  },
  {
   "cell_type": "markdown",
   "id": "8b0790c9",
   "metadata": {},
   "source": [
    "Now that I made this new dataframe I knew I wanted to make a graph but did not know what type would best show the change in the brands. I talked to Professor Wirfs-Brock and she told me that I could use groupby to create some sort of stacked barchart, or area graph that would display the differences in the data. I got a little confused how to use groupby to create a graph so I looked online to see if I could find anything that would help. I went to stackoverflow (link below) and adapted the post by justanothercoder for what I needed. \n",
    "\n",
    "https://stackoverflow.com/questions/34917727/stacked-bar-plot-by-grouped-data-with-pandas"
   ]
  },
  {
   "cell_type": "code",
   "execution_count": 68,
   "id": "e45fd2ff",
   "metadata": {},
   "outputs": [
    {
     "data": {
      "text/plain": [
       "Text(0.5, 1.0, 'Make v Model Year')"
      ]
     },
     "execution_count": 68,
     "metadata": {},
     "output_type": "execute_result"
    },
    {
     "data": {
      "image/png": "[encoded data removed]",
      "text/plain": [
       "<Figure size 640x480 with 1 Axes>"
      ]
     },
     "metadata": {},
     "output_type": "display_data"
    }
   ],
   "source": [
    "# Creates stacked area chart grouping by Model Year and Make\n",
    "df_models.groupby(['Model Year', 'Make']).size().unstack().plot(kind='area', stacked = True)\n",
    "\n",
    "# Sets title\n",
    "plt.title('Make v Model Year')"
   ]
  },
  {
   "cell_type": "markdown",
   "id": "7023562e",
   "metadata": {},
   "source": [
    "From the stacked area graph it is clear that in recent years Tesla has definifetly been the largest electric brand in Washington. However, earlier in the 2010s around 2013 it seems like Nissan was popular and in 2017 it seems like Chevrolet was popular. Although these are not the years the cars were registered, just the model year, given that people get a new car on average every eitgh years it is reasonable to think tha this somewhat accurately reflects the car population at that time. Also, before 2012 Tesla was not as popular as Nissan or Chevrolet. This makes sense as Tesla was only founded in 2003 and started to see more popularity after 2012. Nissan and Chevrolet were already established companies in the market. \n",
    "\n",
    "Given this anlysis and visualizations Tesla has clearly been the 'main player' in electric cars in recent years. "
   ]
  },
  {
   "cell_type": "markdown",
   "id": "b2b89a51",
   "metadata": {},
   "source": [
    "### Part 3: How many of these cars actaully qualify for Clean Alternative Fuel Vehicle (CAFV) Eligibility?"
   ]
  },
  {
   "cell_type": "markdown",
   "id": "36eabc1c",
   "metadata": {},
   "source": [
    "When I was looking at the dataframe I noticed that there was a column with the heading Clean Alternative Fuel Vehicle (CAFV) Eligibility. When looking at the entries in that column I noticed that some said 'Not eligible due to low battery range'. I thought that all electric cars counted as clean vehicles and were considered to be an alternative fuel vehicle. I found it (and still do find it) interesting that not all electric cars are actually considered to be a clean fuel vehicle. I became curious if most people are driving cars that are not actually clean when they think that the car is considered clean. For this reason I decided I wanted to take a look at the percent of cars the are not eligible due to low battery range.  \n",
    "\n",
    "To do this I started with using the .value_counts() function. "
   ]
  },
  {
   "cell_type": "code",
   "execution_count": 69,
   "id": "e3d0c927",
   "metadata": {},
   "outputs": [
    {
     "data": {
      "text/plain": [
       "Eligibility unknown as battery range has not been researched    77195\n",
       "Clean Alternative Fuel Vehicle Eligible                         63824\n",
       "Not eligible due to low battery range                           18448\n",
       "Name: Clean Alternative Fuel Vehicle (CAFV) Eligibility, dtype: int64"
      ]
     },
     "execution_count": 69,
     "metadata": {},
     "output_type": "execute_result"
    }
   ],
   "source": [
    "# Counts values in CAFV column\n",
    "df['Clean Alternative Fuel Vehicle (CAFV) Eligibility'].value_counts()"
   ]
  },
  {
   "cell_type": "markdown",
   "id": "7061972e",
   "metadata": {},
   "source": [
    "Okay, so from the output above we can see that most of the cars are not classified because not enough research has been done. Despite this I decided to calculate the proportions for each possible output. To do this I first got the total number of cars in the dataframe, which is the same as the length of the dataframe. "
   ]
  },
  {
   "cell_type": "code",
   "execution_count": 70,
   "id": "3fbff902",
   "metadata": {},
   "outputs": [],
   "source": [
    "# Calculates length of data frame\n",
    "car_num = len(df)"
   ]
  },
  {
   "cell_type": "markdown",
   "id": "62809bcd",
   "metadata": {},
   "source": [
    "Now that I have the length of the dataframe I calculated the percentages by using the outputs from when I used the .value_counts() function. "
   ]
  },
  {
   "cell_type": "code",
   "execution_count": 71,
   "id": "e36cd02c",
   "metadata": {},
   "outputs": [
    {
     "data": {
      "text/plain": [
       "0.11568537691183756"
      ]
     },
     "execution_count": 71,
     "metadata": {},
     "output_type": "execute_result"
    }
   ],
   "source": [
    "# Percenatge of non-eligible cars\n",
    "18448/car_num"
   ]
  },
  {
   "cell_type": "code",
   "execution_count": 72,
   "id": "b29457f2",
   "metadata": {},
   "outputs": [
    {
     "data": {
      "text/plain": [
       "0.4840813459838086"
      ]
     },
     "execution_count": 72,
     "metadata": {},
     "output_type": "execute_result"
    }
   ],
   "source": [
    "# Percentage of unknown\n",
    "77195/car_num"
   ]
  },
  {
   "cell_type": "code",
   "execution_count": 73,
   "id": "e4afdee5",
   "metadata": {},
   "outputs": [
    {
     "data": {
      "text/plain": [
       "0.40023327710435386"
      ]
     },
     "execution_count": 73,
     "metadata": {},
     "output_type": "execute_result"
    }
   ],
   "source": [
    "# Percentage of clean cars\n",
    "63824/car_num"
   ]
  },
  {
   "cell_type": "markdown",
   "id": "8f63873f",
   "metadata": {},
   "source": [
    "From the calulations above we can see that the percent of non-eligible cars is 11.5%, the percent of eligible cars is 40.1%, and the percent of unknown eligibility is 48.4%. A lot of the cars are actually of unkown eligibility. I was curious what the percentages are when we disregard the unknown eligibility. This means rather than dividing by the length of all cars we have to divide by the length of the dataframe minus the unknown eligibility cars. "
   ]
  },
  {
   "cell_type": "code",
   "execution_count": 74,
   "id": "7ec7a971",
   "metadata": {},
   "outputs": [],
   "source": [
    "# Calculate new size of car population\n",
    "car_elig = len(df)-77195"
   ]
  },
  {
   "cell_type": "code",
   "execution_count": 75,
   "id": "c21b769b",
   "metadata": {},
   "outputs": [
    {
     "data": {
      "text/plain": [
       "0.22423181641384676"
      ]
     },
     "execution_count": 75,
     "metadata": {},
     "output_type": "execute_result"
    }
   ],
   "source": [
    "# Caclulates the percentage of non-eligible cars\n",
    "18448/car_elig"
   ]
  },
  {
   "cell_type": "code",
   "execution_count": 76,
   "id": "58de3840",
   "metadata": {},
   "outputs": [
    {
     "data": {
      "text/plain": [
       "0.7757681835861533"
      ]
     },
     "execution_count": 76,
     "metadata": {},
     "output_type": "execute_result"
    }
   ],
   "source": [
    "# Calculates percentage of clean cars\n",
    "63824/car_elig"
   ]
  },
  {
   "cell_type": "markdown",
   "id": "65d30ab9",
   "metadata": {},
   "source": [
    "Without the unknown eligibility cars we see that the percentage of clean cars is now 77.5% and the percentage of ineligible cars is 22.5%. So a little less than a quarter of the known cars are actually not considered clean vehicles! That is really suprising to me because I thought it would be a lot lower. If we did have research on all the cars the ratio might be a little bit different but we do not have enough information to predict what that new ratio would be. \n",
    "\n",
    "Now that I have done the numerical analysis I am curious what this looks like visually. To do this I used seaborn again and this time made a countplot. If you want to know more about the sns countplot you can find the documentation here https://seaborn.pydata.org/generated/seaborn.countplot.html. "
   ]
  },
  {
   "cell_type": "code",
   "execution_count": 77,
   "id": "61a42e80",
   "metadata": {
    "scrolled": false
   },
   "outputs": [
    {
     "data": {
      "text/plain": [
       "[Text(0.5, 1.0, 'CAFV Type Car Count')]"
      ]
     },
     "execution_count": 77,
     "metadata": {},
     "output_type": "execute_result"
    },
    {
     "data": {
      "image/png": "[encoded data removed]",
      "text/plain": [
       "<Figure size 640x480 with 1 Axes>"
      ]
     },
     "metadata": {},
     "output_type": "display_data"
    }
   ],
   "source": [
    "# Creates bar chart with the different CAFV classifications\n",
    "ax = sns.countplot(data = df_rec, x = 'Model Year', hue = 'Clean Alternative Fuel Vehicle (CAFV) Eligibility')\n",
    "\n",
    "# Changes rotation of x-labels\n",
    "ax.tick_params(axis='x', rotation=45)\n",
    "\n",
    "# Sets graph title\n",
    "ax.set(title = 'CAFV Type Car Count')"
   ]
  },
  {
   "cell_type": "markdown",
   "id": "722ea76e",
   "metadata": {},
   "source": [
    "From the graph we can see that most of the cars from 2019 and before are considered clean alternative fuel vehicles. It's also pretty clear that the newer cars are the ones that tend not to be researched yet. This actually makes a lot of sense. Since the cars are newer, some of them being released only several months ago, there has not been enough time to fully research all of these vehicles. It also seems like research is being prioritized for the older cars and then catching up to the newer cars. I can tell this from the graph because the unknown eligibility bars are growing from when they first appear (very miniscule) in 2020 and go to 2023. Although there is a dip in 2024 barely any 2024 cars are present in the data because they are so new so it is not necessarily representative of the overall trends I have seen. \n",
    "\n",
    "From all this we have seen that electric cars seem to have been increasing over the last several years. We also saw that Tesla has been the main electric car supplier the last several years. Lastly, we learned that most electric cars in Washington are considered clean alternative fuel vehicles, but not all of them. That concludes my analysis of the electric vehicle data for Washington. "
   ]
  }
 ],
 "metadata": {
  "kernelspec": {
   "display_name": "Python 3 (ipykernel)",
   "language": "python",
   "name": "python3"
  },
  "language_info": {
   "codemirror_mode": {
    "name": "ipython",
    "version": 3
   },
   "file_extension": ".py",
   "mimetype": "text/x-python",
   "name": "python",
   "nbconvert_exporter": "python",
   "pygments_lexer": "ipython3",
   "version": "3.11.4"
  }
 },
 "nbformat": 4,
 "nbformat_minor": 5
}
